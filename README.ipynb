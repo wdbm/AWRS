{
 "cells": [
  {
   "cell_type": "markdown",
   "metadata": {},
   "source": [
    "# AWRS: Automated Weather Reporting System\n",
    "\n",
    "Python weather utilities"
   ]
  },
  {
   "cell_type": "code",
   "execution_count": 1,
   "metadata": {
    "collapsed": true
   },
   "outputs": [],
   "source": [
    "import AWRS"
   ]
  },
  {
   "cell_type": "markdown",
   "metadata": {},
   "source": [
    "An ICAO identifier is used to set location. For example, EGPF is Glasgow Airport.\n",
    "\n",
    "# METAR: Meteorological Terminal Aviation Routine"
   ]
  },
  {
   "cell_type": "code",
   "execution_count": 2,
   "metadata": {},
   "outputs": [
    {
     "data": {
      "text/plain": [
       "{'METAR': 'EGPF 091520Z AUTO 25012KT 9999 FEW021 SCT028 BKN034 15/11 Q1008',\n",
       " 'QNH': '1008',\n",
       " 'datetime': datetime.datetime(2017, 6, 9, 15, 20),\n",
       " 'dewpoint': 11,\n",
       " 'rain': False,\n",
       " 'temperature': 15,\n",
       " 'time_UTC': '2017-06-09T1520Z',\n",
       " 'visibility': 9999,\n",
       " 'wind_direction': 250,\n",
       " 'wind_speed': 12}"
      ]
     },
     "execution_count": 2,
     "metadata": {},
     "output_type": "execute_result"
    }
   ],
   "source": [
    "report = AWRS.METAR(identifier = \"EGPF\")\n",
    "\n",
    "del report[\"raw\"]\n",
    "\n",
    "report"
   ]
  },
  {
   "cell_type": "markdown",
   "metadata": {},
   "source": [
    "# TAF: Terminal Aerodrome Forecast"
   ]
  },
  {
   "cell_type": "code",
   "execution_count": 3,
   "metadata": {},
   "outputs": [
    {
     "data": {
      "text/plain": [
       "{'TAF': 'TAF AMD EGPF 091439Z 0914/1012 24012KT 9999 FEW014 SCT025 TEMPO 0914/0916 4000 RA SHRA BKN014 BECMG 0921/0924 VRB04KT TEMPO 1004/1012 6000 RA BKN012 BECMG 1009/1012 17012KT',\n",
       " 'rain_TAF_datetimes': [('0914', '0916'), ('1004', '1012')],\n",
       " 'rain_datetimes': [(datetime.datetime(2017, 6, 9, 14, 0),\n",
       "   datetime.datetime(2017, 6, 9, 16, 0)),\n",
       "  (datetime.datetime(2017, 6, 10, 4, 0),\n",
       "   datetime.datetime(2017, 6, 10, 12, 0))]}"
      ]
     },
     "execution_count": 3,
     "metadata": {},
     "output_type": "execute_result"
    }
   ],
   "source": [
    "report = AWRS.TAF(identifier = \"EGPF\")\n",
    "\n",
    "del report[\"raw\"]\n",
    "\n",
    "report"
   ]
  },
  {
   "cell_type": "markdown",
   "metadata": {},
   "source": [
    "## When is rain predicted by TAF?\n",
    "\n",
    "Each tuple is a forcast time window during which rain is predicted:"
   ]
  },
  {
   "cell_type": "code",
   "execution_count": 4,
   "metadata": {},
   "outputs": [
    {
     "data": {
      "text/plain": [
       "[(datetime.datetime(2017, 6, 9, 14, 0), datetime.datetime(2017, 6, 9, 16, 0)),\n",
       " (datetime.datetime(2017, 6, 10, 4, 0), datetime.datetime(2017, 6, 10, 12, 0))]"
      ]
     },
     "execution_count": 4,
     "metadata": {},
     "output_type": "execute_result"
    }
   ],
   "source": [
    "AWRS.rain_datetimes(identifier = \"EGPF\")"
   ]
  },
  {
   "cell_type": "markdown",
   "metadata": {},
   "source": [
    "What time is it?"
   ]
  },
  {
   "cell_type": "code",
   "execution_count": 5,
   "metadata": {},
   "outputs": [
    {
     "data": {
      "text/plain": [
       "datetime.datetime(2017, 6, 9, 15, 48, 7, 284037)"
      ]
     },
     "execution_count": 5,
     "metadata": {},
     "output_type": "execute_result"
    }
   ],
   "source": [
    "import datetime\n",
    "\n",
    "datetime.datetime.utcnow()"
   ]
  },
  {
   "cell_type": "markdown",
   "metadata": {},
   "source": [
    "Is it predicted by TAF to rain soon?"
   ]
  },
  {
   "cell_type": "code",
   "execution_count": 6,
   "metadata": {},
   "outputs": [
    {
     "data": {
      "text/plain": [
       "False"
      ]
     },
     "execution_count": 6,
     "metadata": {},
     "output_type": "execute_result"
    }
   ],
   "source": [
    "AWRS.rain_soon(identifier = \"EGPF\", minutes = 30)"
   ]
  }
 ],
 "metadata": {
  "kernelspec": {
   "display_name": "Python 3",
   "language": "python",
   "name": "python3"
  },
  "language_info": {
   "codemirror_mode": {
    "name": "ipython",
    "version": 3
   },
   "file_extension": ".py",
   "mimetype": "text/x-python",
   "name": "python",
   "nbconvert_exporter": "python",
   "pygments_lexer": "ipython3",
   "version": "3.5.2"
  }
 },
 "nbformat": 4,
 "nbformat_minor": 2
}
